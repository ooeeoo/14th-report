{
 "cells": [
  {
   "cell_type": "code",
   "execution_count": 54,
   "metadata": {},
   "outputs": [],
   "source": [
    "import pandas as pd\n",
    "import random"
   ]
  },
  {
   "cell_type": "code",
   "execution_count": 76,
   "metadata": {},
   "outputs": [],
   "source": [
    "class SimpleChatBot:\n",
    "    def __init__(self, filepath):\n",
    "        self.questions, self.answers = self.load_data(filepath) # load_data()를 활용하여 질문과 답변을 리스트 형태로 각각 저장\n",
    "\n",
    "    # 파일 경로에 존재하는 csv 파일을 읽고, 질문과 답변을 리스트 형태로 각각 저장\n",
    "    def load_data(self, filepath):\n",
    "        data = pd.read_csv(filepath)    # csv 파일로 읽어 질문과 답변을 분리\n",
    "        questions = data['Q'].tolist()  # 질문열만 뽑아 파이썬 리스트로 저장\n",
    "        answers = data['A'].tolist()    # 답변열만 뽑아 파이썬 리스트로 저장\n",
    "        return questions, answers\n",
    "\n",
    "    # 레벤슈타인 거리를 계산하는 함수\n",
    "    def calc_distance(self, input_sentence, question):\n",
    "        if input_sentence == question: return 0      # 같으면 0을 반환\n",
    "        input_len = len(input_sentence)              # input_sentance의 길이 계산\n",
    "        question_len = len(question)                 # question의 길이 계산\n",
    "        if input_sentence == \"\": return question_len # input_sentence에 \"\" 입력시 question의 길이 만큼 거리가 존재\n",
    "        if question == \"\": return input_len          # question에 \"\" 입력시 input_sentence의 길이 만큼 거리가 존재\n",
    "\n",
    "        matrix = [[] for i in range(input_len+1)] \n",
    "        # [[],\n",
    "        #  [],\n",
    "        #  [],\n",
    "        #  []]\n",
    "\n",
    "        for i in range(input_len+1):\n",
    "            matrix[i] = [0 for j in range(question_len+1)]\n",
    "        # [[0, 0, 0, 0],\n",
    "        #  [0, 0, 0, 0],\n",
    "        #  [0, 0, 0, 0],\n",
    "        #  [0, 0, 0, 0]]\n",
    "        \n",
    "        for i in range(input_len+1):\n",
    "            matrix[i][0] = i\n",
    "        for j in range(question_len+1):\n",
    "            matrix[0][j] = j\n",
    "        # [[0, 1, 2, 3],\n",
    "        #  [1, 0, 0, 0],\n",
    "        #  [2, 0, 0, 0],\n",
    "        #  [3, 0, 0, 0]] \n",
    "\n",
    "        for i in range(1, input_len+1):\n",
    "            ac = input_sentence[i-1]\n",
    "            for j in range(1, question_len+1):\n",
    "                bc = question[j-1] \n",
    "                cost = 0 if (ac == bc) else 1  #  파이썬 조건 표현식 예:) result = value1 if condition else value2\n",
    "                matrix[i][j] = min([\n",
    "                    matrix[i-1][j] + 1,     # 문자 제거: 위쪽에서 +1\n",
    "                    matrix[i][j-1] + 1,     # 문자 삽입: 왼쪽 수에서 +1   \n",
    "                    matrix[i-1][j-1] + cost # 문자 변경: 대각선에서 +1, 문자가 동일하면 대각선 숫자 복사\n",
    "                ])\n",
    "        return matrix[input_len][question_len]  \n",
    "\n",
    "    # 질문 받은 내용과 가장 유사한 질문을 데이터셋에서 찾고, 이에 해당하는 답변을 반환하는 함수\n",
    "    def find_best_answer_lev(self, input_sentance):\n",
    "        similarities = []                     # 입력 받은 질문과 데이터셋 내 질문 간 레벤슈타인 거리를 저장할 리스트를 생성\n",
    "        for i in range(len(self.questions)):\n",
    "            similar = self.calc_distance(input_sentance, self.questions[i])  # calc_distance()를 활용하여 레벤슈타인 거리를 계산\n",
    "            similarities.append(similar + (random.random() / 10))            # similarities 리스트에 계산된 레벤슈타인 거리를 추가, \n",
    "                                                                             # 이때 같은 유사도 내에서 무작위 답변을 위한 난수 추가\n",
    "        best_match_index = similarities.index(min(similarities))             # similarities 리스트 내 레벤슈타인 거리가 가장 작은 인수의 index를 산출\n",
    "        # return self.answers[best_match_index], self.questions[best_match_index], min(similarities)\n",
    "        return self.answers[best_match_index]"
   ]
  },
  {
   "cell_type": "code",
   "execution_count": 77,
   "metadata": {},
   "outputs": [],
   "source": [
    "############################################# CSV 파일 경로 수정 필요\n",
    "filepath = 'c:\\\\Users\\\\lifec\\\\OneDrive\\\\Desktop\\\\바탕화면 백업\\\\사이버 대학\\\\4학년 1학기\\\\AI개발실무\\\\14주차 챗봇\\\\chatbot\\\\ChatbotData.csv'\n",
    "chatbot = SimpleChatBot(filepath)  # 인스턴스를 생성"
   ]
  },
  {
   "cell_type": "code",
   "execution_count": 80,
   "metadata": {},
   "outputs": [
    {
     "name": "stdout",
     "output_type": "stream",
     "text": [
      "Chatbot: 무슨 안좋은 일이 있었나봐요.\n",
      "Chatbot: 네\n",
      "Chatbot: 네\n",
      "Chatbot: 네\n",
      "Chatbot: 네\n",
      "Chatbot: 힘을 내세요.\n",
      "Chatbot: 음\n",
      "Chatbot: 저도 좋아해주세요.\n",
      "Chatbot: 네\n",
      "Chatbot: 네\n",
      "Chatbot: 놀랐나봐요.\n",
      "Chatbot: 네\n",
      "Chatbot: 아이구\n"
     ]
    }
   ],
   "source": [
    "# '종료'라는 단어가 입력될 때까지 챗봇과의 대화를 반복합니다.\n",
    "while True:\n",
    "    input_sentence = input('You: ')\n",
    "    if input_sentence.lower() == '종료':\n",
    "        break\n",
    "    response = chatbot.find_best_answer_lev(input_sentence)\n",
    "    print('Chatbot:', response)\n",
    "    # response, response_2, response_3 = chatbot.find_best_answer_lev(input_sentence) # test\n",
    "    # print('Chatbot:', response, '            Best_similarity_question :', response_2, '           Similarity :', response_3) # test"
   ]
  },
  {
   "cell_type": "code",
   "execution_count": null,
   "metadata": {},
   "outputs": [],
   "source": []
  },
  {
   "cell_type": "code",
   "execution_count": null,
   "metadata": {},
   "outputs": [],
   "source": []
  },
  {
   "cell_type": "code",
   "execution_count": null,
   "metadata": {},
   "outputs": [],
   "source": [
    "ㅇ야"
   ]
  }
 ],
 "metadata": {
  "kernelspec": {
   "display_name": "Python 3",
   "language": "python",
   "name": "python3"
  },
  "language_info": {
   "codemirror_mode": {
    "name": "ipython",
    "version": 3
   },
   "file_extension": ".py",
   "mimetype": "text/x-python",
   "name": "python",
   "nbconvert_exporter": "python",
   "pygments_lexer": "ipython3",
   "version": "3.10.11"
  },
  "orig_nbformat": 4
 },
 "nbformat": 4,
 "nbformat_minor": 2
}
